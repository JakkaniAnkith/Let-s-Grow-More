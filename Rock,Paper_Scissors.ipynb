{
  "nbformat": 4,
  "nbformat_minor": 0,
  "metadata": {
    "colab": {
      "provenance": [],
      "authorship_tag": "ABX9TyNTUbG3iR2n0Qwb/FRNj3oT",
      "include_colab_link": true
    },
    "kernelspec": {
      "name": "python3",
      "display_name": "Python 3"
    },
    "language_info": {
      "name": "python"
    }
  },
  "cells": [
    {
      "cell_type": "markdown",
      "metadata": {
        "id": "view-in-github",
        "colab_type": "text"
      },
      "source": [
        "<a href=\"https://colab.research.google.com/github/JakkaniAnkith/Let-s-Grow-More/blob/main/Rock%2CPaper_Scissors.ipynb\" target=\"_parent\"><img src=\"https://colab.research.google.com/assets/colab-badge.svg\" alt=\"Open In Colab\"/></a>"
      ]
    },
    {
      "cell_type": "code",
      "execution_count": 5,
      "metadata": {
        "colab": {
          "base_uri": "https://localhost:8080/"
        },
        "id": "BGum8rsrQu39",
        "outputId": "03b7bd60-1f93-4974-a8af-84e5c3424fb3"
      },
      "outputs": [
        {
          "output_type": "stream",
          "name": "stdout",
          "text": [
            "Enter a choice (rock, paper, scissors): scissors\n",
            "\n",
            "You chose  scissors  computer chose scissors \n",
            "\n",
            "Both players selected scissors  It's a tie!\n"
          ]
        }
      ],
      "source": [
        "import random\n",
        "user_action = input(\"Enter a choice (rock, paper, scissors): \")\n",
        "possible_actions = [\"rock\", \"paper\", \"scissors\"]\n",
        "computer_action = random.choice(possible_actions)\n",
        "print(\"\\nYou chose \",user_action,\" computer chose\", computer_action,\"\\n\")\n",
        "if user_action == computer_action:\n",
        "    print(\"Both players selected\" ,user_action,\" It's a tie!\")\n",
        "elif user_action == \"rock\":\n",
        "    if computer_action == \"scissors\":\n",
        "        print(\"Rock smashes scissors! You win!\")\n",
        "    else:\n",
        "        print(\"Paper covers rock! You lose.\")\n",
        "elif user_action == \"paper\":\n",
        "    if computer_action == \"rock\":\n",
        "        print(\"Paper covers rock! You win!\")\n",
        "    else:\n",
        "        print(\"Scissors cuts paper! You lose.\")\n",
        "elif user_action == \"scissors\":\n",
        "    if computer_action == \"paper\":\n",
        "        print(\"Scissors cuts paper! You win!\")\n",
        "    else:\n",
        "        print(\"Rock smashes scissors! You lose.\")"
      ]
    },
    {
      "cell_type": "code",
      "source": [
        "import imageio.v3 as iio\n",
        "\n",
        "filenames = ['a1.png', 'team-pic2.png']\n",
        "images = [ ]\n",
        "\n",
        "for filename in filenames:\n",
        "  images.append(iio.imread(filename))\n",
        "\n",
        "iio.imwrite('team.gif', images, duration = 500, loop = 0)"
      ],
      "metadata": {
        "id": "awWSCfXmtRHC"
      },
      "execution_count": 36,
      "outputs": []
    }
  ]
}